{
 "metadata": {
  "language_info": {
   "codemirror_mode": {
    "name": "ipython",
    "version": 3
   },
   "file_extension": ".py",
   "mimetype": "text/x-python",
   "name": "python",
   "nbconvert_exporter": "python",
   "pygments_lexer": "ipython3",
   "version": "3.7.6-final"
  },
  "orig_nbformat": 2,
  "kernelspec": {
   "name": "python3",
   "display_name": "Python 3",
   "language": "python"
  }
 },
 "nbformat": 4,
 "nbformat_minor": 2,
 "cells": [
  {
   "cell_type": "code",
   "execution_count": 4,
   "metadata": {},
   "outputs": [
    {
     "output_type": "execute_result",
     "data": {
      "text/plain": [
       "            Unnamed: 0  AveragePrice  Total Volume     4046       4225  \\\n",
       "Date                                                                     \n",
       "2015-12-27           0          1.33      64236.62  1036.74   54454.85   \n",
       "2015-12-20           1          1.35      54876.98   674.28   44638.81   \n",
       "2015-12-13           2          0.93     118220.22   794.70  109149.67   \n",
       "2015-12-06           3          1.08      78992.15  1132.00   71976.41   \n",
       "2015-11-29           4          1.28      51039.60   941.48   43838.39   \n",
       "\n",
       "              4770  Total Bags  Small Bags  Large Bags  XLarge Bags  \\\n",
       "Date                                                                  \n",
       "2015-12-27   48.16     8696.87     8603.62       93.25          0.0   \n",
       "2015-12-20   58.33     9505.56     9408.07       97.49          0.0   \n",
       "2015-12-13  130.50     8145.35     8042.21      103.14          0.0   \n",
       "2015-12-06   72.58     5811.16     5677.40      133.76          0.0   \n",
       "2015-11-29   75.78     6183.95     5986.26      197.69          0.0   \n",
       "\n",
       "                    type  year  region  \n",
       "Date                                    \n",
       "2015-12-27  conventional  2015  Albany  \n",
       "2015-12-20  conventional  2015  Albany  \n",
       "2015-12-13  conventional  2015  Albany  \n",
       "2015-12-06  conventional  2015  Albany  \n",
       "2015-11-29  conventional  2015  Albany  "
      ],
      "text/html": "<div>\n<style scoped>\n    .dataframe tbody tr th:only-of-type {\n        vertical-align: middle;\n    }\n\n    .dataframe tbody tr th {\n        vertical-align: top;\n    }\n\n    .dataframe thead th {\n        text-align: right;\n    }\n</style>\n<table border=\"1\" class=\"dataframe\">\n  <thead>\n    <tr style=\"text-align: right;\">\n      <th></th>\n      <th>Unnamed: 0</th>\n      <th>AveragePrice</th>\n      <th>Total Volume</th>\n      <th>4046</th>\n      <th>4225</th>\n      <th>4770</th>\n      <th>Total Bags</th>\n      <th>Small Bags</th>\n      <th>Large Bags</th>\n      <th>XLarge Bags</th>\n      <th>type</th>\n      <th>year</th>\n      <th>region</th>\n    </tr>\n    <tr>\n      <th>Date</th>\n      <th></th>\n      <th></th>\n      <th></th>\n      <th></th>\n      <th></th>\n      <th></th>\n      <th></th>\n      <th></th>\n      <th></th>\n      <th></th>\n      <th></th>\n      <th></th>\n      <th></th>\n    </tr>\n  </thead>\n  <tbody>\n    <tr>\n      <th>2015-12-27</th>\n      <td>0</td>\n      <td>1.33</td>\n      <td>64236.62</td>\n      <td>1036.74</td>\n      <td>54454.85</td>\n      <td>48.16</td>\n      <td>8696.87</td>\n      <td>8603.62</td>\n      <td>93.25</td>\n      <td>0.0</td>\n      <td>conventional</td>\n      <td>2015</td>\n      <td>Albany</td>\n    </tr>\n    <tr>\n      <th>2015-12-20</th>\n      <td>1</td>\n      <td>1.35</td>\n      <td>54876.98</td>\n      <td>674.28</td>\n      <td>44638.81</td>\n      <td>58.33</td>\n      <td>9505.56</td>\n      <td>9408.07</td>\n      <td>97.49</td>\n      <td>0.0</td>\n      <td>conventional</td>\n      <td>2015</td>\n      <td>Albany</td>\n    </tr>\n    <tr>\n      <th>2015-12-13</th>\n      <td>2</td>\n      <td>0.93</td>\n      <td>118220.22</td>\n      <td>794.70</td>\n      <td>109149.67</td>\n      <td>130.50</td>\n      <td>8145.35</td>\n      <td>8042.21</td>\n      <td>103.14</td>\n      <td>0.0</td>\n      <td>conventional</td>\n      <td>2015</td>\n      <td>Albany</td>\n    </tr>\n    <tr>\n      <th>2015-12-06</th>\n      <td>3</td>\n      <td>1.08</td>\n      <td>78992.15</td>\n      <td>1132.00</td>\n      <td>71976.41</td>\n      <td>72.58</td>\n      <td>5811.16</td>\n      <td>5677.40</td>\n      <td>133.76</td>\n      <td>0.0</td>\n      <td>conventional</td>\n      <td>2015</td>\n      <td>Albany</td>\n    </tr>\n    <tr>\n      <th>2015-11-29</th>\n      <td>4</td>\n      <td>1.28</td>\n      <td>51039.60</td>\n      <td>941.48</td>\n      <td>43838.39</td>\n      <td>75.78</td>\n      <td>6183.95</td>\n      <td>5986.26</td>\n      <td>197.69</td>\n      <td>0.0</td>\n      <td>conventional</td>\n      <td>2015</td>\n      <td>Albany</td>\n    </tr>\n  </tbody>\n</table>\n</div>"
     },
     "metadata": {},
     "execution_count": 4
    }
   ],
   "source": [
    "import pandas as pd\n",
    "import geopandas as gpd\n",
    "import matplotlib.pyplot as plt\n",
    "df = pd.read_csv('avocado.csv', index_col = 'Date')\n",
    "\n",
    "df.head()"
   ]
  },
  {
   "cell_type": "code",
   "execution_count": 5,
   "metadata": {},
   "outputs": [
    {
     "output_type": "execute_result",
     "data": {
      "text/plain": [
       "            AveragePrice  Total Volume  year  region\n",
       "Date                                                \n",
       "2015-12-27          1.33      64236.62  2015  Albany\n",
       "2015-12-20          1.35      54876.98  2015  Albany\n",
       "2015-12-13          0.93     118220.22  2015  Albany\n",
       "2015-12-06          1.08      78992.15  2015  Albany\n",
       "2015-11-29          1.28      51039.60  2015  Albany"
      ],
      "text/html": "<div>\n<style scoped>\n    .dataframe tbody tr th:only-of-type {\n        vertical-align: middle;\n    }\n\n    .dataframe tbody tr th {\n        vertical-align: top;\n    }\n\n    .dataframe thead th {\n        text-align: right;\n    }\n</style>\n<table border=\"1\" class=\"dataframe\">\n  <thead>\n    <tr style=\"text-align: right;\">\n      <th></th>\n      <th>AveragePrice</th>\n      <th>Total Volume</th>\n      <th>year</th>\n      <th>region</th>\n    </tr>\n    <tr>\n      <th>Date</th>\n      <th></th>\n      <th></th>\n      <th></th>\n      <th></th>\n    </tr>\n  </thead>\n  <tbody>\n    <tr>\n      <th>2015-12-27</th>\n      <td>1.33</td>\n      <td>64236.62</td>\n      <td>2015</td>\n      <td>Albany</td>\n    </tr>\n    <tr>\n      <th>2015-12-20</th>\n      <td>1.35</td>\n      <td>54876.98</td>\n      <td>2015</td>\n      <td>Albany</td>\n    </tr>\n    <tr>\n      <th>2015-12-13</th>\n      <td>0.93</td>\n      <td>118220.22</td>\n      <td>2015</td>\n      <td>Albany</td>\n    </tr>\n    <tr>\n      <th>2015-12-06</th>\n      <td>1.08</td>\n      <td>78992.15</td>\n      <td>2015</td>\n      <td>Albany</td>\n    </tr>\n    <tr>\n      <th>2015-11-29</th>\n      <td>1.28</td>\n      <td>51039.60</td>\n      <td>2015</td>\n      <td>Albany</td>\n    </tr>\n  </tbody>\n</table>\n</div>"
     },
     "metadata": {},
     "execution_count": 5
    }
   ],
   "source": [
    "drop_columns = ['Unnamed: 0', '4046', '4225', '4770', 'Total Bags', 'Small Bags', 'Large Bags', 'XLarge Bags', 'type']\n",
    "avo_df = df.drop(drop_columns, axis=1)\n",
    "\n",
    "avo_df.head()"
   ]
  },
  {
   "source": [
    "avo_df['AveragePrice'].describe() "
   ],
   "cell_type": "code",
   "metadata": {},
   "execution_count": 6,
   "outputs": [
    {
     "output_type": "execute_result",
     "data": {
      "text/plain": [
       "count    18249.000000\n",
       "mean         1.405978\n",
       "std          0.402677\n",
       "min          0.440000\n",
       "25%          1.100000\n",
       "50%          1.370000\n",
       "75%          1.660000\n",
       "max          3.250000\n",
       "Name: AveragePrice, dtype: float64"
      ]
     },
     "metadata": {},
     "execution_count": 6
    }
   ]
  },
  {
   "cell_type": "code",
   "execution_count": 7,
   "metadata": {},
   "outputs": [
    {
     "output_type": "stream",
     "name": "stdout",
     "text": [
      "Median price: 1.37\n"
     ]
    }
   ],
   "source": [
    "print('Median price:' , avo_df['AveragePrice'].median())"
   ]
  },
  {
   "cell_type": "code",
   "execution_count": 8,
   "metadata": {},
   "outputs": [
    {
     "output_type": "execute_result",
     "data": {
      "text/plain": [
       "(array([  64.,  267.,  860., 1772., 2409., 2415., 2191., 2315., 1931.,\n",
       "        1481., 1051.,  621.,  352.,  246.,   92.,   85.,   47.,   39.,\n",
       "           8.,    3.]),\n",
       " array([0.44  , 0.5805, 0.721 , 0.8615, 1.002 , 1.1425, 1.283 , 1.4235,\n",
       "        1.564 , 1.7045, 1.845 , 1.9855, 2.126 , 2.2665, 2.407 , 2.5475,\n",
       "        2.688 , 2.8285, 2.969 , 3.1095, 3.25  ]),\n",
       " <a list of 20 Patch objects>)"
      ]
     },
     "metadata": {},
     "execution_count": 8
    },
    {
     "output_type": "display_data",
     "data": {
      "text/plain": "<Figure size 432x288 with 1 Axes>",
      "image/svg+xml": "<?xml version=\"1.0\" encoding=\"utf-8\" standalone=\"no\"?>\n<!DOCTYPE svg PUBLIC \"-//W3C//DTD SVG 1.1//EN\"\n  \"http://www.w3.org/Graphics/SVG/1.1/DTD/svg11.dtd\">\n<!-- Created with matplotlib (https://matplotlib.org/) -->\n<svg height=\"249.251789pt\" version=\"1.1\" viewBox=\"0 0 381.65 249.251789\" width=\"381.65pt\" xmlns=\"http://www.w3.org/2000/svg\" xmlns:xlink=\"http://www.w3.org/1999/xlink\">\n <defs>\n  <style type=\"text/css\">\n*{stroke-linecap:butt;stroke-linejoin:round;}\n  </style>\n </defs>\n <g id=\"figure_1\">\n  <g id=\"patch_1\">\n   <path d=\"M -0 249.251789 \nL 381.65 249.251789 \nL 381.65 0 \nL -0 0 \nz\n\" style=\"fill:none;\"/>\n  </g>\n  <g id=\"axes_1\">\n   <g id=\"patch_2\">\n    <path d=\"M 39.65 225.373664 \nL 374.45 225.373664 \nL 374.45 7.933664 \nL 39.65 7.933664 \nz\n\" style=\"fill:#ffffff;\"/>\n   </g>\n   <g id=\"patch_3\">\n    <path clip-path=\"url(#pa4b28c9c4a)\" d=\"M 54.868182 225.373664 \nL 70.086364 225.373664 \nL 70.086364 219.885678 \nL 54.868182 219.885678 \nz\n\" style=\"fill:#1f77b4;\"/>\n   </g>\n   <g id=\"patch_4\">\n    <path clip-path=\"url(#pa4b28c9c4a)\" d=\"M 70.086364 225.373664 \nL 85.304545 225.373664 \nL 85.304545 202.478473 \nL 70.086364 202.478473 \nz\n\" style=\"fill:#1f77b4;\"/>\n   </g>\n   <g id=\"patch_5\">\n    <path clip-path=\"url(#pa4b28c9c4a)\" d=\"M 85.304545 225.373664 \nL 100.522727 225.373664 \nL 100.522727 151.628855 \nL 85.304545 151.628855 \nz\n\" style=\"fill:#1f77b4;\"/>\n   </g>\n   <g id=\"patch_6\">\n    <path clip-path=\"url(#pa4b28c9c4a)\" d=\"M 100.522727 225.373664 \nL 115.740909 225.373664 \nL 115.740909 73.425057 \nL 100.522727 73.425057 \nz\n\" style=\"fill:#1f77b4;\"/>\n   </g>\n   <g id=\"patch_7\">\n    <path clip-path=\"url(#pa4b28c9c4a)\" d=\"M 115.740909 225.373664 \nL 130.959091 225.373664 \nL 130.959091 18.802449 \nL 115.740909 18.802449 \nz\n\" style=\"fill:#1f77b4;\"/>\n   </g>\n   <g id=\"patch_8\">\n    <path clip-path=\"url(#pa4b28c9c4a)\" d=\"M 130.959091 225.373664 \nL 146.177273 225.373664 \nL 146.177273 18.28795 \nL 130.959091 18.28795 \nz\n\" style=\"fill:#1f77b4;\"/>\n   </g>\n   <g id=\"patch_9\">\n    <path clip-path=\"url(#pa4b28c9c4a)\" d=\"M 146.177273 225.373664 \nL 161.395455 225.373664 \nL 161.395455 37.4959 \nL 146.177273 37.4959 \nz\n\" style=\"fill:#1f77b4;\"/>\n   </g>\n   <g id=\"patch_10\">\n    <path clip-path=\"url(#pa4b28c9c4a)\" d=\"M 161.395455 225.373664 \nL 176.613636 225.373664 \nL 176.613636 26.862928 \nL 161.395455 26.862928 \nz\n\" style=\"fill:#1f77b4;\"/>\n   </g>\n   <g id=\"patch_11\">\n    <path clip-path=\"url(#pa4b28c9c4a)\" d=\"M 176.613636 225.373664 \nL 191.831818 225.373664 \nL 191.831818 59.790843 \nL 176.613636 59.790843 \nz\n\" style=\"fill:#1f77b4;\"/>\n   </g>\n   <g id=\"patch_12\">\n    <path clip-path=\"url(#pa4b28c9c4a)\" d=\"M 191.831818 225.373664 \nL 207.05 225.373664 \nL 207.05 98.378243 \nL 191.831818 98.378243 \nz\n\" style=\"fill:#1f77b4;\"/>\n   </g>\n   <g id=\"patch_13\">\n    <path clip-path=\"url(#pa4b28c9c4a)\" d=\"M 207.05 225.373664 \nL 222.268182 225.373664 \nL 222.268182 135.250647 \nL 207.05 135.250647 \nz\n\" style=\"fill:#1f77b4;\"/>\n   </g>\n   <g id=\"patch_14\">\n    <path clip-path=\"url(#pa4b28c9c4a)\" d=\"M 222.268182 225.373664 \nL 237.486364 225.373664 \nL 237.486364 172.123052 \nL 222.268182 172.123052 \nz\n\" style=\"fill:#1f77b4;\"/>\n   </g>\n   <g id=\"patch_15\">\n    <path clip-path=\"url(#pa4b28c9c4a)\" d=\"M 237.486364 225.373664 \nL 252.704545 225.373664 \nL 252.704545 195.189742 \nL 237.486364 195.189742 \nz\n\" style=\"fill:#1f77b4;\"/>\n   </g>\n   <g id=\"patch_16\">\n    <path clip-path=\"url(#pa4b28c9c4a)\" d=\"M 252.704545 225.373664 \nL 267.922727 225.373664 \nL 267.922727 204.279219 \nL 252.704545 204.279219 \nz\n\" style=\"fill:#1f77b4;\"/>\n   </g>\n   <g id=\"patch_17\">\n    <path clip-path=\"url(#pa4b28c9c4a)\" d=\"M 267.922727 225.373664 \nL 283.140909 225.373664 \nL 283.140909 217.484685 \nL 267.922727 217.484685 \nz\n\" style=\"fill:#1f77b4;\"/>\n   </g>\n   <g id=\"patch_18\">\n    <path clip-path=\"url(#pa4b28c9c4a)\" d=\"M 283.140909 225.373664 \nL 298.359091 225.373664 \nL 298.359091 218.084933 \nL 283.140909 218.084933 \nz\n\" style=\"fill:#1f77b4;\"/>\n   </g>\n   <g id=\"patch_19\">\n    <path clip-path=\"url(#pa4b28c9c4a)\" d=\"M 298.359091 225.373664 \nL 313.577273 225.373664 \nL 313.577273 221.343425 \nL 298.359091 221.343425 \nz\n\" style=\"fill:#1f77b4;\"/>\n   </g>\n   <g id=\"patch_20\">\n    <path clip-path=\"url(#pa4b28c9c4a)\" d=\"M 313.577273 225.373664 \nL 328.795455 225.373664 \nL 328.795455 222.029423 \nL 313.577273 222.029423 \nz\n\" style=\"fill:#1f77b4;\"/>\n   </g>\n   <g id=\"patch_21\">\n    <path clip-path=\"url(#pa4b28c9c4a)\" d=\"M 328.795455 225.373664 \nL 344.013636 225.373664 \nL 344.013636 224.687666 \nL 328.795455 224.687666 \nz\n\" style=\"fill:#1f77b4;\"/>\n   </g>\n   <g id=\"patch_22\">\n    <path clip-path=\"url(#pa4b28c9c4a)\" d=\"M 344.013636 225.373664 \nL 359.231818 225.373664 \nL 359.231818 225.116415 \nL 344.013636 225.116415 \nz\n\" style=\"fill:#1f77b4;\"/>\n   </g>\n   <g id=\"matplotlib.axis_1\">\n    <g id=\"xtick_1\">\n     <g id=\"line2d_1\">\n      <defs>\n       <path d=\"M 0 0 \nL 0 3.5 \n\" id=\"m2e85894d7f\" style=\"stroke:#000000;stroke-width:0.8;\"/>\n      </defs>\n      <g>\n       <use style=\"stroke:#000000;stroke-width:0.8;\" x=\"61.367049\" xlink:href=\"#m2e85894d7f\" y=\"225.373664\"/>\n      </g>\n     </g>\n     <g id=\"text_1\">\n      <!-- 0.5 -->\n      <defs>\n       <path d=\"M 31.78125 66.40625 \nQ 24.171875 66.40625 20.328125 58.90625 \nQ 16.5 51.421875 16.5 36.375 \nQ 16.5 21.390625 20.328125 13.890625 \nQ 24.171875 6.390625 31.78125 6.390625 \nQ 39.453125 6.390625 43.28125 13.890625 \nQ 47.125 21.390625 47.125 36.375 \nQ 47.125 51.421875 43.28125 58.90625 \nQ 39.453125 66.40625 31.78125 66.40625 \nz\nM 31.78125 74.21875 \nQ 44.046875 74.21875 50.515625 64.515625 \nQ 56.984375 54.828125 56.984375 36.375 \nQ 56.984375 17.96875 50.515625 8.265625 \nQ 44.046875 -1.421875 31.78125 -1.421875 \nQ 19.53125 -1.421875 13.0625 8.265625 \nQ 6.59375 17.96875 6.59375 36.375 \nQ 6.59375 54.828125 13.0625 64.515625 \nQ 19.53125 74.21875 31.78125 74.21875 \nz\n\" id=\"DejaVuSans-48\"/>\n       <path d=\"M 10.6875 12.40625 \nL 21 12.40625 \nL 21 0 \nL 10.6875 0 \nz\n\" id=\"DejaVuSans-46\"/>\n       <path d=\"M 10.796875 72.90625 \nL 49.515625 72.90625 \nL 49.515625 64.59375 \nL 19.828125 64.59375 \nL 19.828125 46.734375 \nQ 21.96875 47.46875 24.109375 47.828125 \nQ 26.265625 48.1875 28.421875 48.1875 \nQ 40.625 48.1875 47.75 41.5 \nQ 54.890625 34.8125 54.890625 23.390625 \nQ 54.890625 11.625 47.5625 5.09375 \nQ 40.234375 -1.421875 26.90625 -1.421875 \nQ 22.3125 -1.421875 17.546875 -0.640625 \nQ 12.796875 0.140625 7.71875 1.703125 \nL 7.71875 11.625 \nQ 12.109375 9.234375 16.796875 8.0625 \nQ 21.484375 6.890625 26.703125 6.890625 \nQ 35.15625 6.890625 40.078125 11.328125 \nQ 45.015625 15.765625 45.015625 23.390625 \nQ 45.015625 31 40.078125 35.4375 \nQ 35.15625 39.890625 26.703125 39.890625 \nQ 22.75 39.890625 18.8125 39.015625 \nQ 14.890625 38.140625 10.796875 36.28125 \nz\n\" id=\"DejaVuSans-53\"/>\n      </defs>\n      <g transform=\"translate(53.415487 239.972102)scale(0.1 -0.1)\">\n       <use xlink:href=\"#DejaVuSans-48\"/>\n       <use x=\"63.623047\" xlink:href=\"#DejaVuSans-46\"/>\n       <use x=\"95.410156\" xlink:href=\"#DejaVuSans-53\"/>\n      </g>\n     </g>\n    </g>\n    <g id=\"xtick_2\">\n     <g id=\"line2d_2\">\n      <g>\n       <use style=\"stroke:#000000;stroke-width:0.8;\" x=\"115.52428\" xlink:href=\"#m2e85894d7f\" y=\"225.373664\"/>\n      </g>\n     </g>\n     <g id=\"text_2\">\n      <!-- 1.0 -->\n      <defs>\n       <path d=\"M 12.40625 8.296875 \nL 28.515625 8.296875 \nL 28.515625 63.921875 \nL 10.984375 60.40625 \nL 10.984375 69.390625 \nL 28.421875 72.90625 \nL 38.28125 72.90625 \nL 38.28125 8.296875 \nL 54.390625 8.296875 \nL 54.390625 0 \nL 12.40625 0 \nz\n\" id=\"DejaVuSans-49\"/>\n      </defs>\n      <g transform=\"translate(107.572718 239.972102)scale(0.1 -0.1)\">\n       <use xlink:href=\"#DejaVuSans-49\"/>\n       <use x=\"63.623047\" xlink:href=\"#DejaVuSans-46\"/>\n       <use x=\"95.410156\" xlink:href=\"#DejaVuSans-48\"/>\n      </g>\n     </g>\n    </g>\n    <g id=\"xtick_3\">\n     <g id=\"line2d_3\">\n      <g>\n       <use style=\"stroke:#000000;stroke-width:0.8;\" x=\"169.681511\" xlink:href=\"#m2e85894d7f\" y=\"225.373664\"/>\n      </g>\n     </g>\n     <g id=\"text_3\">\n      <!-- 1.5 -->\n      <g transform=\"translate(161.729948 239.972102)scale(0.1 -0.1)\">\n       <use xlink:href=\"#DejaVuSans-49\"/>\n       <use x=\"63.623047\" xlink:href=\"#DejaVuSans-46\"/>\n       <use x=\"95.410156\" xlink:href=\"#DejaVuSans-53\"/>\n      </g>\n     </g>\n    </g>\n    <g id=\"xtick_4\">\n     <g id=\"line2d_4\">\n      <g>\n       <use style=\"stroke:#000000;stroke-width:0.8;\" x=\"223.838742\" xlink:href=\"#m2e85894d7f\" y=\"225.373664\"/>\n      </g>\n     </g>\n     <g id=\"text_4\">\n      <!-- 2.0 -->\n      <defs>\n       <path d=\"M 19.1875 8.296875 \nL 53.609375 8.296875 \nL 53.609375 0 \nL 7.328125 0 \nL 7.328125 8.296875 \nQ 12.9375 14.109375 22.625 23.890625 \nQ 32.328125 33.6875 34.8125 36.53125 \nQ 39.546875 41.84375 41.421875 45.53125 \nQ 43.3125 49.21875 43.3125 52.78125 \nQ 43.3125 58.59375 39.234375 62.25 \nQ 35.15625 65.921875 28.609375 65.921875 \nQ 23.96875 65.921875 18.8125 64.3125 \nQ 13.671875 62.703125 7.8125 59.421875 \nL 7.8125 69.390625 \nQ 13.765625 71.78125 18.9375 73 \nQ 24.125 74.21875 28.421875 74.21875 \nQ 39.75 74.21875 46.484375 68.546875 \nQ 53.21875 62.890625 53.21875 53.421875 \nQ 53.21875 48.921875 51.53125 44.890625 \nQ 49.859375 40.875 45.40625 35.40625 \nQ 44.1875 33.984375 37.640625 27.21875 \nQ 31.109375 20.453125 19.1875 8.296875 \nz\n\" id=\"DejaVuSans-50\"/>\n      </defs>\n      <g transform=\"translate(215.887179 239.972102)scale(0.1 -0.1)\">\n       <use xlink:href=\"#DejaVuSans-50\"/>\n       <use x=\"63.623047\" xlink:href=\"#DejaVuSans-46\"/>\n       <use x=\"95.410156\" xlink:href=\"#DejaVuSans-48\"/>\n      </g>\n     </g>\n    </g>\n    <g id=\"xtick_5\">\n     <g id=\"line2d_5\">\n      <g>\n       <use style=\"stroke:#000000;stroke-width:0.8;\" x=\"277.995972\" xlink:href=\"#m2e85894d7f\" y=\"225.373664\"/>\n      </g>\n     </g>\n     <g id=\"text_5\">\n      <!-- 2.5 -->\n      <g transform=\"translate(270.04441 239.972102)scale(0.1 -0.1)\">\n       <use xlink:href=\"#DejaVuSans-50\"/>\n       <use x=\"63.623047\" xlink:href=\"#DejaVuSans-46\"/>\n       <use x=\"95.410156\" xlink:href=\"#DejaVuSans-53\"/>\n      </g>\n     </g>\n    </g>\n    <g id=\"xtick_6\">\n     <g id=\"line2d_6\">\n      <g>\n       <use style=\"stroke:#000000;stroke-width:0.8;\" x=\"332.153203\" xlink:href=\"#m2e85894d7f\" y=\"225.373664\"/>\n      </g>\n     </g>\n     <g id=\"text_6\">\n      <!-- 3.0 -->\n      <defs>\n       <path d=\"M 40.578125 39.3125 \nQ 47.65625 37.796875 51.625 33 \nQ 55.609375 28.21875 55.609375 21.1875 \nQ 55.609375 10.40625 48.1875 4.484375 \nQ 40.765625 -1.421875 27.09375 -1.421875 \nQ 22.515625 -1.421875 17.65625 -0.515625 \nQ 12.796875 0.390625 7.625 2.203125 \nL 7.625 11.71875 \nQ 11.71875 9.328125 16.59375 8.109375 \nQ 21.484375 6.890625 26.8125 6.890625 \nQ 36.078125 6.890625 40.9375 10.546875 \nQ 45.796875 14.203125 45.796875 21.1875 \nQ 45.796875 27.640625 41.28125 31.265625 \nQ 36.765625 34.90625 28.71875 34.90625 \nL 20.21875 34.90625 \nL 20.21875 43.015625 \nL 29.109375 43.015625 \nQ 36.375 43.015625 40.234375 45.921875 \nQ 44.09375 48.828125 44.09375 54.296875 \nQ 44.09375 59.90625 40.109375 62.90625 \nQ 36.140625 65.921875 28.71875 65.921875 \nQ 24.65625 65.921875 20.015625 65.03125 \nQ 15.375 64.15625 9.8125 62.3125 \nL 9.8125 71.09375 \nQ 15.4375 72.65625 20.34375 73.4375 \nQ 25.25 74.21875 29.59375 74.21875 \nQ 40.828125 74.21875 47.359375 69.109375 \nQ 53.90625 64.015625 53.90625 55.328125 \nQ 53.90625 49.265625 50.4375 45.09375 \nQ 46.96875 40.921875 40.578125 39.3125 \nz\n\" id=\"DejaVuSans-51\"/>\n      </defs>\n      <g transform=\"translate(324.20164 239.972102)scale(0.1 -0.1)\">\n       <use xlink:href=\"#DejaVuSans-51\"/>\n       <use x=\"63.623047\" xlink:href=\"#DejaVuSans-46\"/>\n       <use x=\"95.410156\" xlink:href=\"#DejaVuSans-48\"/>\n      </g>\n     </g>\n    </g>\n   </g>\n   <g id=\"matplotlib.axis_2\">\n    <g id=\"ytick_1\">\n     <g id=\"line2d_7\">\n      <defs>\n       <path d=\"M 0 0 \nL -3.5 0 \n\" id=\"m1d3c8f03ff\" style=\"stroke:#000000;stroke-width:0.8;\"/>\n      </defs>\n      <g>\n       <use style=\"stroke:#000000;stroke-width:0.8;\" x=\"39.65\" xlink:href=\"#m1d3c8f03ff\" y=\"225.373664\"/>\n      </g>\n     </g>\n     <g id=\"text_7\">\n      <!-- 0 -->\n      <g transform=\"translate(26.2875 229.172883)scale(0.1 -0.1)\">\n       <use xlink:href=\"#DejaVuSans-48\"/>\n      </g>\n     </g>\n    </g>\n    <g id=\"ytick_2\">\n     <g id=\"line2d_8\">\n      <g>\n       <use style=\"stroke:#000000;stroke-width:0.8;\" x=\"39.65\" xlink:href=\"#m1d3c8f03ff\" y=\"182.498775\"/>\n      </g>\n     </g>\n     <g id=\"text_8\">\n      <!-- 500 -->\n      <g transform=\"translate(13.5625 186.297994)scale(0.1 -0.1)\">\n       <use xlink:href=\"#DejaVuSans-53\"/>\n       <use x=\"63.623047\" xlink:href=\"#DejaVuSans-48\"/>\n       <use x=\"127.246094\" xlink:href=\"#DejaVuSans-48\"/>\n      </g>\n     </g>\n    </g>\n    <g id=\"ytick_3\">\n     <g id=\"line2d_9\">\n      <g>\n       <use style=\"stroke:#000000;stroke-width:0.8;\" x=\"39.65\" xlink:href=\"#m1d3c8f03ff\" y=\"139.623886\"/>\n      </g>\n     </g>\n     <g id=\"text_9\">\n      <!-- 1000 -->\n      <g transform=\"translate(7.2 143.423105)scale(0.1 -0.1)\">\n       <use xlink:href=\"#DejaVuSans-49\"/>\n       <use x=\"63.623047\" xlink:href=\"#DejaVuSans-48\"/>\n       <use x=\"127.246094\" xlink:href=\"#DejaVuSans-48\"/>\n       <use x=\"190.869141\" xlink:href=\"#DejaVuSans-48\"/>\n      </g>\n     </g>\n    </g>\n    <g id=\"ytick_4\">\n     <g id=\"line2d_10\">\n      <g>\n       <use style=\"stroke:#000000;stroke-width:0.8;\" x=\"39.65\" xlink:href=\"#m1d3c8f03ff\" y=\"96.748997\"/>\n      </g>\n     </g>\n     <g id=\"text_10\">\n      <!-- 1500 -->\n      <g transform=\"translate(7.2 100.548216)scale(0.1 -0.1)\">\n       <use xlink:href=\"#DejaVuSans-49\"/>\n       <use x=\"63.623047\" xlink:href=\"#DejaVuSans-53\"/>\n       <use x=\"127.246094\" xlink:href=\"#DejaVuSans-48\"/>\n       <use x=\"190.869141\" xlink:href=\"#DejaVuSans-48\"/>\n      </g>\n     </g>\n    </g>\n    <g id=\"ytick_5\">\n     <g id=\"line2d_11\">\n      <g>\n       <use style=\"stroke:#000000;stroke-width:0.8;\" x=\"39.65\" xlink:href=\"#m1d3c8f03ff\" y=\"53.874108\"/>\n      </g>\n     </g>\n     <g id=\"text_11\">\n      <!-- 2000 -->\n      <g transform=\"translate(7.2 57.673327)scale(0.1 -0.1)\">\n       <use xlink:href=\"#DejaVuSans-50\"/>\n       <use x=\"63.623047\" xlink:href=\"#DejaVuSans-48\"/>\n       <use x=\"127.246094\" xlink:href=\"#DejaVuSans-48\"/>\n       <use x=\"190.869141\" xlink:href=\"#DejaVuSans-48\"/>\n      </g>\n     </g>\n    </g>\n    <g id=\"ytick_6\">\n     <g id=\"line2d_12\">\n      <g>\n       <use style=\"stroke:#000000;stroke-width:0.8;\" x=\"39.65\" xlink:href=\"#m1d3c8f03ff\" y=\"10.999219\"/>\n      </g>\n     </g>\n     <g id=\"text_12\">\n      <!-- 2500 -->\n      <g transform=\"translate(7.2 14.798437)scale(0.1 -0.1)\">\n       <use xlink:href=\"#DejaVuSans-50\"/>\n       <use x=\"63.623047\" xlink:href=\"#DejaVuSans-53\"/>\n       <use x=\"127.246094\" xlink:href=\"#DejaVuSans-48\"/>\n       <use x=\"190.869141\" xlink:href=\"#DejaVuSans-48\"/>\n      </g>\n     </g>\n    </g>\n   </g>\n   <g id=\"patch_23\">\n    <path d=\"M 39.65 225.373664 \nL 39.65 7.933664 \n\" style=\"fill:none;stroke:#000000;stroke-linecap:square;stroke-linejoin:miter;stroke-width:0.8;\"/>\n   </g>\n   <g id=\"patch_24\">\n    <path d=\"M 374.45 225.373664 \nL 374.45 7.933664 \n\" style=\"fill:none;stroke:#000000;stroke-linecap:square;stroke-linejoin:miter;stroke-width:0.8;\"/>\n   </g>\n   <g id=\"patch_25\">\n    <path d=\"M 39.65 225.373664 \nL 374.45 225.373664 \n\" style=\"fill:none;stroke:#000000;stroke-linecap:square;stroke-linejoin:miter;stroke-width:0.8;\"/>\n   </g>\n   <g id=\"patch_26\">\n    <path d=\"M 39.65 7.933664 \nL 374.45 7.933664 \n\" style=\"fill:none;stroke:#000000;stroke-linecap:square;stroke-linejoin:miter;stroke-width:0.8;\"/>\n   </g>\n  </g>\n </g>\n <defs>\n  <clipPath id=\"pa4b28c9c4a\">\n   <rect height=\"217.44\" width=\"334.8\" x=\"39.65\" y=\"7.933664\"/>\n  </clipPath>\n </defs>\n</svg>\n",
      "image/png": "[encoded data removed]"
     },
     "metadata": {
      "needs_background": "light"
     }
    }
   ],
   "source": [
    "plt.hist(avo_df[\"AveragePrice\"], bins=20)"
   ]
  },
  {
   "cell_type": "code",
   "execution_count": 9,
   "metadata": {},
   "outputs": [
    {
     "output_type": "execute_result",
     "data": {
      "text/plain": [
       "array(['Albany', 'Atlanta', 'BaltimoreWashington', 'Boise', 'Boston',\n",
       "       'BuffaloRochester', 'California', 'Charlotte', 'Chicago',\n",
       "       'CincinnatiDayton', 'Columbus', 'DallasFtWorth', 'Denver',\n",
       "       'Detroit', 'GrandRapids', 'GreatLakes', 'HarrisburgScranton',\n",
       "       'HartfordSpringfield', 'Houston', 'Indianapolis', 'Jacksonville',\n",
       "       'LasVegas', 'LosAngeles', 'Louisville', 'MiamiFtLauderdale',\n",
       "       'Midsouth', 'Nashville', 'NewOrleansMobile', 'NewYork',\n",
       "       'Northeast', 'NorthernNewEngland', 'Orlando', 'Philadelphia',\n",
       "       'PhoenixTucson', 'Pittsburgh', 'Plains', 'Portland',\n",
       "       'RaleighGreensboro', 'RichmondNorfolk', 'Roanoke', 'Sacramento',\n",
       "       'SanDiego', 'SanFrancisco', 'Seattle', 'SouthCarolina',\n",
       "       'SouthCentral', 'Southeast', 'Spokane', 'StLouis', 'Syracuse',\n",
       "       'Tampa', 'TotalUS', 'West', 'WestTexNewMexico'], dtype=object)"
      ]
     },
     "metadata": {},
     "execution_count": 9
    }
   ],
   "source": [
    "regions = avo_df.region.unique()\n",
    "regions"
   ]
  },
  {
   "cell_type": "code",
   "execution_count": 10,
   "metadata": {},
   "outputs": [
    {
     "output_type": "execute_result",
     "data": {
      "text/plain": [
       "                     AveragePrice   Total Volume\n",
       "region                                          \n",
       "Albany                   1.561036   47537.869734\n",
       "Atlanta                  1.337959  262145.322041\n",
       "BaltimoreWashington      1.534231  398561.891479\n",
       "Boise                    1.348136   42642.567308\n",
       "Boston                   1.530888  287792.854527"
      ],
      "text/html": "<div>\n<style scoped>\n    .dataframe tbody tr th:only-of-type {\n        vertical-align: middle;\n    }\n\n    .dataframe tbody tr th {\n        vertical-align: top;\n    }\n\n    .dataframe thead th {\n        text-align: right;\n    }\n</style>\n<table border=\"1\" class=\"dataframe\">\n  <thead>\n    <tr style=\"text-align: right;\">\n      <th></th>\n      <th>AveragePrice</th>\n      <th>Total Volume</th>\n    </tr>\n    <tr>\n      <th>region</th>\n      <th></th>\n      <th></th>\n    </tr>\n  </thead>\n  <tbody>\n    <tr>\n      <th>Albany</th>\n      <td>1.561036</td>\n      <td>47537.869734</td>\n    </tr>\n    <tr>\n      <th>Atlanta</th>\n      <td>1.337959</td>\n      <td>262145.322041</td>\n    </tr>\n    <tr>\n      <th>BaltimoreWashington</th>\n      <td>1.534231</td>\n      <td>398561.891479</td>\n    </tr>\n    <tr>\n      <th>Boise</th>\n      <td>1.348136</td>\n      <td>42642.567308</td>\n    </tr>\n    <tr>\n      <th>Boston</th>\n      <td>1.530888</td>\n      <td>287792.854527</td>\n    </tr>\n  </tbody>\n</table>\n</div>"
     },
     "metadata": {},
     "execution_count": 10
    }
   ],
   "source": [
    "group_by_region = avo_df.groupby(by=['region'])\n",
    "avo_df_avg = group_by_region.mean()\n",
    "avo_df_avg = avo_df_avg.drop(['year'], axis=1)\n",
    "\n",
    "avo_df_avg.head()"
   ]
  },
  {
   "cell_type": "code",
   "execution_count": 14,
   "metadata": {},
   "outputs": [
    {
     "output_type": "execute_result",
     "data": {
      "text/plain": [
       "{'Albany': Location(Albany, NY, United States, (42.65172576904297, -73.75509643554688, 0.0)),\n",
       " 'Atlanta': Location(Atlanta, GA, United States, (33.7485466003418, -84.3915023803711, 0.0)),\n",
       " 'BaltimoreWashington': Location(MD, United States, (39.175262451171875, -76.67152404785156, 0.0)),\n",
       " 'Boise': Location(Boise, ID, United States, (43.61579132080078, -116.20157623291016, 0.0)),\n",
       " 'Boston': Location(Boston, MA, United States, (42.35899353027344, -71.05863189697266, 0.0)),\n",
       " 'BuffaloRochester': Location(Rochester, NY, United States, (43.15570831298828, -77.612548828125, 0.0)),\n",
       " 'California': Location(CA, United States, (37.25467300415039, -119.61727905273438, 0.0)),\n",
       " 'Charlotte': Location(Charlotte, NC, United States, (35.223785400390625, -80.84114074707031, 0.0)),\n",
       " 'Chicago': Location(Chicago, IL, United States, (41.88322830200195, -87.63240051269531, 0.0)),\n",
       " 'CincinnatiDayton': Location(Cincinnati, OH, United States, (39.10369873046875, -84.51361083984375, 0.0)),\n",
       " 'Columbus': Location(Columbus, OH, United States, (39.96276092529297, -82.99629211425781, 0.0)),\n",
       " 'DallasFtWorth': Location(Dallas, TX, United States, (32.777976989746094, -96.79621124267578, 0.0)),\n",
       " 'Denver': Location(Denver, CO, United States, (39.73845291137695, -104.98485565185547, 0.0)),\n",
       " 'Detroit': Location(Detroit, MI, United States, (42.33293914794922, -83.04783630371094, 0.0)),\n",
       " 'GrandRapids': Location(Grand Rapids, MI, United States, (42.96546173095703, -85.67017364501953, 0.0)),\n",
       " 'GreatLakes': Location(United States, (45.0, -84.0, 0.0)),\n",
       " 'HarrisburgScranton': Location(Harrisburg, PA, United States, (40.25959396362305, -76.88187408447266, 0.0)),\n",
       " 'HartfordSpringfield': Location(Hartford, CT, United States, (41.76577377319336, -72.67335510253906, 0.0)),\n",
       " 'Houston': Location(Houston, TX, United States, (29.76080322265625, -95.3695068359375, 0.0)),\n",
       " 'Indianapolis': Location(Indianapolis, IN, United States, (39.76845169067383, -86.15621185302734, 0.0)),\n",
       " 'Jacksonville': Location(Jacksonville, FL, United States, (30.32596778869629, -81.6567611694336, 0.0)),\n",
       " 'LasVegas': Location(Las Vegas, NV, United States, (36.169090270996094, -115.14057922363281, 0.0)),\n",
       " 'LosAngeles': Location(Los Angeles, CA, United States, (34.05223846435547, -118.24334716796875, 0.0)),\n",
       " 'Louisville': Location(Louisville, KY, United States, (38.25607681274414, -85.75157165527344, 0.0)),\n",
       " 'MiamiFtLauderdale': Location(Miami, FL, United States, (25.775083541870117, -80.1947021484375, 0.0)),\n",
       " 'Midsouth': None,\n",
       " 'Nashville': Location(Nashville, TN, United States, (36.166343688964844, -86.77906799316406, 0.0)),\n",
       " 'NewOrleansMobile': Location(New Orleans, LA, United States, (29.951763153076172, -90.07461547851562, 0.0)),\n",
       " 'NewYork': Location(New York, NY, United States, (40.71304702758789, -74.00723266601562, 0.0)),\n",
       " 'Northeast': Location(United States, (42.0, -73.0, 0.0)),\n",
       " 'NorthernNewEngland': Location(United States, (44.08305740356445, -70.5822982788086, 0.0)),\n",
       " 'Orlando': Location(Orlando, FL, United States, (28.538330078125, -81.37887573242188, 0.0)),\n",
       " 'Philadelphia': Location(Philadelphia, PA, United States, (39.9510612487793, -75.16561889648438, 0.0)),\n",
       " 'PhoenixTucson': Location(Tucson, AZ, United States, (32.22187805175781, -110.97122192382812, 0.0)),\n",
       " 'Pittsburgh': Location(Pittsburgh, PA, United States, (40.442169189453125, -79.99495697021484, 0.0)),\n",
       " 'Plains': Location(Plains, NJ, United States, (41.14038848876953, -74.7021484375, 0.0)),\n",
       " 'Portland': Location(Portland, OR, United States, (45.51601791381836, -122.68142700195312, 0.0)),\n",
       " 'RaleighGreensboro': Location(Raleigh, NC, United States, (35.78130340576172, -78.64167785644531, 0.0)),\n",
       " 'RichmondNorfolk': Location(Richmond, VA, United States, (37.5407600402832, -77.43392944335938, 0.0)),\n",
       " 'Roanoke': Location(Roanoke, VA, United States, (37.27113342285156, -79.93905639648438, 0.0)),\n",
       " 'Sacramento': Location(Sacramento, CA, United States, (38.576934814453125, -121.49494934082031, 0.0)),\n",
       " 'SanDiego': Location(San Diego, CA, United States, (32.71575927734375, -117.163818359375, 0.0)),\n",
       " 'SanFrancisco': Location(San Francisco, CA, United States, (37.78007888793945, -122.42015838623047, 0.0)),\n",
       " 'Seattle': Location(Seattle, WA, United States, (47.60322952270508, -122.33027648925781, 0.0)),\n",
       " 'SouthCarolina': Location(SC, United States, (33.903934478759766, -80.89408111572266, 0.0)),\n",
       " 'SouthCentral': Location(PA, United States, (40.111000061035156, -77.75, 0.0)),\n",
       " 'Southeast': Location(Southeast, NY, United States, (41.39439010620117, -73.61961364746094, 0.0)),\n",
       " 'Spokane': Location(Spokane, WA, United States, (47.659000396728516, -117.4250259399414, 0.0)),\n",
       " 'StLouis': Location(St Louis, MO, United States, (38.63535690307617, -90.20098876953125, 0.0)),\n",
       " 'Syracuse': Location(Syracuse, NY, United States, (43.047943115234375, -76.14744567871094, 0.0)),\n",
       " 'Tampa': Location(Tampa, FL, United States, (27.947423934936523, -82.45877838134766, 0.0)),\n",
       " 'TotalUS': None,\n",
       " 'West': Location(OU, Rwanda, (-2.098797082901001, 29.308263778686523, 0.0)),\n",
       " 'WestTexNewMexico': Location(NM, United States, (34.42136764526367, -106.10839080810547, 0.0))}"
      ]
     },
     "metadata": {},
     "execution_count": 14
    }
   ],
   "source": [
    "from geopy.geocoders import Bing\n",
    "from geopy.extra.rate_limiter import RateLimiter\n",
    "geolocator = Bing(api_key='ApxLuramuz441u7DhIjLsoVIxufcTWRa09sKB1jr5ZKu55P02CCvIPAu_VSHwKQo', timeout=30)\n",
    "geocode = RateLimiter(geolocator.geocode, min_delay_seconds=2)\n",
    "regions_dict = {i : geolocator.geocode(i) for i in regions}\n",
    "regions_dict"
   ]
  },
  {
   "cell_type": "code",
   "execution_count": 44,
   "metadata": {},
   "outputs": [],
   "source": [
    "regions_df = pd.DataFrame(regions_dict)\n",
    "regions_df_melted = regions_df.iloc[1:2,:].melt()\n",
    "regions_df_melted.columns = ['region', 'co-ordinates']"
   ]
  },
  {
   "cell_type": "code",
   "execution_count": 47,
   "metadata": {},
   "outputs": [
    {
     "output_type": "execute_result",
     "data": {
      "text/plain": [
       "                region  AveragePrice   Total Volume  \\\n",
       "0               Albany      1.561036   47537.869734   \n",
       "1              Atlanta      1.337959  262145.322041   \n",
       "2  BaltimoreWashington      1.534231  398561.891479   \n",
       "3                Boise      1.348136   42642.567308   \n",
       "4               Boston      1.530888  287792.854527   \n",
       "\n",
       "                               co-ordinates  \n",
       "0   (42.65172576904297, -73.75509643554688)  \n",
       "1     (33.7485466003418, -84.3915023803711)  \n",
       "2  (39.175262451171875, -76.67152404785156)  \n",
       "3  (43.61579132080078, -116.20157623291016)  \n",
       "4   (42.35899353027344, -71.05863189697266)  "
      ],
      "text/html": "<div>\n<style scoped>\n    .dataframe tbody tr th:only-of-type {\n        vertical-align: middle;\n    }\n\n    .dataframe tbody tr th {\n        vertical-align: top;\n    }\n\n    .dataframe thead th {\n        text-align: right;\n    }\n</style>\n<table border=\"1\" class=\"dataframe\">\n  <thead>\n    <tr style=\"text-align: right;\">\n      <th></th>\n      <th>region</th>\n      <th>AveragePrice</th>\n      <th>Total Volume</th>\n      <th>co-ordinates</th>\n    </tr>\n  </thead>\n  <tbody>\n    <tr>\n      <th>0</th>\n      <td>Albany</td>\n      <td>1.561036</td>\n      <td>47537.869734</td>\n      <td>(42.65172576904297, -73.75509643554688)</td>\n    </tr>\n    <tr>\n      <th>1</th>\n      <td>Atlanta</td>\n      <td>1.337959</td>\n      <td>262145.322041</td>\n      <td>(33.7485466003418, -84.3915023803711)</td>\n    </tr>\n    <tr>\n      <th>2</th>\n      <td>BaltimoreWashington</td>\n      <td>1.534231</td>\n      <td>398561.891479</td>\n      <td>(39.175262451171875, -76.67152404785156)</td>\n    </tr>\n    <tr>\n      <th>3</th>\n      <td>Boise</td>\n      <td>1.348136</td>\n      <td>42642.567308</td>\n      <td>(43.61579132080078, -116.20157623291016)</td>\n    </tr>\n    <tr>\n      <th>4</th>\n      <td>Boston</td>\n      <td>1.530888</td>\n      <td>287792.854527</td>\n      <td>(42.35899353027344, -71.05863189697266)</td>\n    </tr>\n  </tbody>\n</table>\n</div>"
     },
     "metadata": {},
     "execution_count": 47
    }
   ],
   "source": [
    "df = pd.merge(avo_df_avg, regions_df_melted, left_on='region', right_on='region')\n",
    "\n",
    "df.head()"
   ]
  },
  {
   "cell_type": "code",
   "execution_count": 52,
   "metadata": {},
   "outputs": [
    {
     "output_type": "execute_result",
     "data": {
      "text/plain": [
       "                region  AveragePrice   Total Volume  \\\n",
       "0               Albany      1.561036   47537.869734   \n",
       "1              Atlanta      1.337959  262145.322041   \n",
       "2  BaltimoreWashington      1.534231  398561.891479   \n",
       "3                Boise      1.348136   42642.567308   \n",
       "4               Boston      1.530888  287792.854527   \n",
       "\n",
       "                               co-ordinates   latitude   longitude  \\\n",
       "0   (42.65172576904297, -73.75509643554688)  42.651726  -73.755096   \n",
       "1     (33.7485466003418, -84.3915023803711)  33.748547  -84.391502   \n",
       "2  (39.175262451171875, -76.67152404785156)  39.175262  -76.671524   \n",
       "3  (43.61579132080078, -116.20157623291016)  43.615791 -116.201576   \n",
       "4   (42.35899353027344, -71.05863189697266)  42.358994  -71.058632   \n",
       "\n",
       "                      geometry  \n",
       "0   POINT (-73.75510 42.65173)  \n",
       "1   POINT (-84.39150 33.74855)  \n",
       "2   POINT (-76.67152 39.17526)  \n",
       "3  POINT (-116.20158 43.61579)  \n",
       "4   POINT (-71.05863 42.35899)  "
      ],
      "text/html": "<div>\n<style scoped>\n    .dataframe tbody tr th:only-of-type {\n        vertical-align: middle;\n    }\n\n    .dataframe tbody tr th {\n        vertical-align: top;\n    }\n\n    .dataframe thead th {\n        text-align: right;\n    }\n</style>\n<table border=\"1\" class=\"dataframe\">\n  <thead>\n    <tr style=\"text-align: right;\">\n      <th></th>\n      <th>region</th>\n      <th>AveragePrice</th>\n      <th>Total Volume</th>\n      <th>co-ordinates</th>\n      <th>latitude</th>\n      <th>longitude</th>\n      <th>geometry</th>\n    </tr>\n  </thead>\n  <tbody>\n    <tr>\n      <th>0</th>\n      <td>Albany</td>\n      <td>1.561036</td>\n      <td>47537.869734</td>\n      <td>(42.65172576904297, -73.75509643554688)</td>\n      <td>42.651726</td>\n      <td>-73.755096</td>\n      <td>POINT (-73.75510 42.65173)</td>\n    </tr>\n    <tr>\n      <th>1</th>\n      <td>Atlanta</td>\n      <td>1.337959</td>\n      <td>262145.322041</td>\n      <td>(33.7485466003418, -84.3915023803711)</td>\n      <td>33.748547</td>\n      <td>-84.391502</td>\n      <td>POINT (-84.39150 33.74855)</td>\n    </tr>\n    <tr>\n      <th>2</th>\n      <td>BaltimoreWashington</td>\n      <td>1.534231</td>\n      <td>398561.891479</td>\n      <td>(39.175262451171875, -76.67152404785156)</td>\n      <td>39.175262</td>\n      <td>-76.671524</td>\n      <td>POINT (-76.67152 39.17526)</td>\n    </tr>\n    <tr>\n      <th>3</th>\n      <td>Boise</td>\n      <td>1.348136</td>\n      <td>42642.567308</td>\n      <td>(43.61579132080078, -116.20157623291016)</td>\n      <td>43.615791</td>\n      <td>-116.201576</td>\n      <td>POINT (-116.20158 43.61579)</td>\n    </tr>\n    <tr>\n      <th>4</th>\n      <td>Boston</td>\n      <td>1.530888</td>\n      <td>287792.854527</td>\n      <td>(42.35899353027344, -71.05863189697266)</td>\n      <td>42.358994</td>\n      <td>-71.058632</td>\n      <td>POINT (-71.05863 42.35899)</td>\n    </tr>\n  </tbody>\n</table>\n</div>"
     },
     "metadata": {},
     "execution_count": 52
    }
   ],
   "source": [
    "df[['latitude', 'longitude']] = pd.DataFrame(df['co-ordinates'].tolist(), index=df.index)\n",
    "df.head()"
   ]
  },
  {
   "cell_type": "code",
   "execution_count": 53,
   "metadata": {},
   "outputs": [
    {
     "output_type": "execute_result",
     "data": {
      "text/plain": [
       "<matplotlib.axes._subplots.AxesSubplot at 0x7f9f59512610>"
      ]
     },
     "metadata": {},
     "execution_count": 53
    },
    {
     "output_type": "display_data",
     "data": {
      "text/plain": "<Figure size 432x288 with 1 Axes>",
      "image/svg+xml": "<?xml version=\"1.0\" encoding=\"utf-8\" standalone=\"no\"?>\n<!DOCTYPE svg PUBLIC \"-//W3C//DTD SVG 1.1//EN\"\n  \"http://www.w3.org/Graphics/SVG/1.1/DTD/svg11.dtd\">\n<!-- Created with matplotlib (https://matplotlib.org/) -->\n<svg height=\"140.731509pt\" version=\"1.1\" viewBox=\"0 0 368.925 140.731509\" width=\"368.925pt\" xmlns=\"http://www.w3.org/2000/svg\" xmlns:xlink=\"http://www.w3.org/1999/xlink\">\n <defs>\n  <style type=\"text/css\">\n*{stroke-linecap:butt;stroke-linejoin:round;}\n  </style>\n </defs>\n <g id=\"figure_1\">\n  <g id=\"patch_1\">\n   <path d=\"M -0 140.731509 \nL 368.925 140.731509 \nL 368.925 0 \nL -0 0 \nz\n\" style=\"fill:none;\"/>\n  </g>\n  <g id=\"axes_1\">\n   <g id=\"patch_2\">\n    <path d=\"M 26.925 116.853384 \nL 361.725 116.853384 \nL 361.725 7.2 \nL 26.925 7.2 \nz\n\" style=\"fill:#ffffff;\"/>\n   </g>\n   <g id=\"PathCollection_1\">\n    <defs>\n     <path d=\"M 0 3 \nC 0.795609 3 1.55874 2.683901 2.12132 2.12132 \nC 2.683901 1.55874 3 0.795609 3 0 \nC 3 -0.795609 2.683901 -1.55874 2.12132 -2.12132 \nC 1.55874 -2.683901 0.795609 -3 0 -3 \nC -0.795609 -3 -1.55874 -2.683901 -2.12132 -2.12132 \nC -2.683901 -1.55874 -3 -0.795609 -3 0 \nC -3 0.795609 -2.683901 1.55874 -2.12132 2.12132 \nC -1.55874 2.683901 -0.795609 3 0 3 \nz\n\" id=\"mee86193f8d\" style=\"stroke:#1f77b4;\"/>\n    </defs>\n    <g clip-path=\"url(#p82f8f25710)\">\n     <use style=\"fill:#1f77b4;stroke:#1f77b4;\" x=\"140.125927\" xlink:href=\"#mee86193f8d\" y=\"22.237896\"/>\n     <use style=\"fill:#1f77b4;stroke:#1f77b4;\" x=\"118.828736\" xlink:href=\"#mee86193f8d\" y=\"40.064662\"/>\n     <use style=\"fill:#1f77b4;stroke:#1f77b4;\" x=\"134.286387\" xlink:href=\"#mee86193f8d\" y=\"29.198791\"/>\n     <use style=\"fill:#1f77b4;stroke:#1f77b4;\" x=\"55.135677\" xlink:href=\"#mee86193f8d\" y=\"20.307556\"/>\n     <use style=\"fill:#1f77b4;stroke:#1f77b4;\" x=\"145.525037\" xlink:href=\"#mee86193f8d\" y=\"22.824032\"/>\n     <use style=\"fill:#1f77b4;stroke:#1f77b4;\" x=\"132.402181\" xlink:href=\"#mee86193f8d\" y=\"21.228776\"/>\n     <use style=\"fill:#1f77b4;stroke:#1f77b4;\" x=\"48.296443\" xlink:href=\"#mee86193f8d\" y=\"33.044372\"/>\n     <use style=\"fill:#1f77b4;stroke:#1f77b4;\" x=\"125.937597\" xlink:href=\"#mee86193f8d\" y=\"37.110803\"/>\n     <use style=\"fill:#1f77b4;stroke:#1f77b4;\" x=\"112.339511\" xlink:href=\"#mee86193f8d\" y=\"23.776653\"/>\n     <use style=\"fill:#1f77b4;stroke:#1f77b4;\" x=\"118.584239\" xlink:href=\"#mee86193f8d\" y=\"29.342083\"/>\n     <use style=\"fill:#1f77b4;stroke:#1f77b4;\" x=\"121.622354\" xlink:href=\"#mee86193f8d\" y=\"27.621989\"/>\n     <use style=\"fill:#1f77b4;stroke:#1f77b4;\" x=\"93.990886\" xlink:href=\"#mee86193f8d\" y=\"42.008025\"/>\n     <use style=\"fill:#1f77b4;stroke:#1f77b4;\" x=\"77.594828\" xlink:href=\"#mee86193f8d\" y=\"28.07112\"/>\n     <use style=\"fill:#1f77b4;stroke:#1f77b4;\" x=\"121.519148\" xlink:href=\"#mee86193f8d\" y=\"22.8762\"/>\n     <use style=\"fill:#1f77b4;stroke:#1f77b4;\" x=\"116.268463\" xlink:href=\"#mee86193f8d\" y=\"21.609705\"/>\n     <use style=\"fill:#1f77b4;stroke:#1f77b4;\" x=\"119.612638\" xlink:href=\"#mee86193f8d\" y=\"17.535966\"/>\n     <use style=\"fill:#1f77b4;stroke:#1f77b4;\" x=\"133.865205\" xlink:href=\"#mee86193f8d\" y=\"27.027643\"/>\n     <use style=\"fill:#1f77b4;stroke:#1f77b4;\" x=\"142.291889\" xlink:href=\"#mee86193f8d\" y=\"24.011831\"/>\n     <use style=\"fill:#1f77b4;stroke:#1f77b4;\" x=\"96.847565\" xlink:href=\"#mee86193f8d\" y=\"48.049288\"/>\n     <use style=\"fill:#1f77b4;stroke:#1f77b4;\" x=\"115.295272\" xlink:href=\"#mee86193f8d\" y=\"28.011053\"/>\n     <use style=\"fill:#1f77b4;stroke:#1f77b4;\" x=\"124.304487\" xlink:href=\"#mee86193f8d\" y=\"46.917664\"/>\n     <use style=\"fill:#1f77b4;stroke:#1f77b4;\" x=\"57.260103\" xlink:href=\"#mee86193f8d\" y=\"35.218026\"/>\n     <use style=\"fill:#1f77b4;stroke:#1f77b4;\" x=\"51.047456\" xlink:href=\"#mee86193f8d\" y=\"39.456582\"/>\n     <use style=\"fill:#1f77b4;stroke:#1f77b4;\" x=\"116.10548\" xlink:href=\"#mee86193f8d\" y=\"31.03927\"/>\n     <use style=\"fill:#1f77b4;stroke:#1f77b4;\" x=\"127.231956\" xlink:href=\"#mee86193f8d\" y=\"56.029863\"/>\n     <use style=\"fill:#1f77b4;stroke:#1f77b4;\" x=\"114.048132\" xlink:href=\"#mee86193f8d\" y=\"35.223526\"/>\n     <use style=\"fill:#1f77b4;stroke:#1f77b4;\" x=\"107.449484\" xlink:href=\"#mee86193f8d\" y=\"47.666931\"/>\n     <use style=\"fill:#1f77b4;stroke:#1f77b4;\" x=\"139.621077\" xlink:href=\"#mee86193f8d\" y=\"26.119698\"/>\n     <use style=\"fill:#1f77b4;stroke:#1f77b4;\" x=\"141.637851\" xlink:href=\"#mee86193f8d\" y=\"23.542842\"/>\n     <use style=\"fill:#1f77b4;stroke:#1f77b4;\" x=\"146.478796\" xlink:href=\"#mee86193f8d\" y=\"19.371952\"/>\n     <use style=\"fill:#1f77b4;stroke:#1f77b4;\" x=\"124.860894\" xlink:href=\"#mee86193f8d\" y=\"50.497037\"/>\n     <use style=\"fill:#1f77b4;stroke:#1f77b4;\" x=\"137.301649\" xlink:href=\"#mee86193f8d\" y=\"27.645416\"/>\n     <use style=\"fill:#1f77b4;stroke:#1f77b4;\" x=\"65.608374\" xlink:href=\"#mee86193f8d\" y=\"43.121498\"/>\n     <use style=\"fill:#1f77b4;stroke:#1f77b4;\" x=\"127.631904\" xlink:href=\"#mee86193f8d\" y=\"26.662074\"/>\n     <use style=\"fill:#1f77b4;stroke:#1f77b4;\" x=\"138.229653\" xlink:href=\"#mee86193f8d\" y=\"25.264035\"/>\n     <use style=\"fill:#1f77b4;stroke:#1f77b4;\" x=\"42.161124\" xlink:href=\"#mee86193f8d\" y=\"16.502747\"/>\n     <use style=\"fill:#1f77b4;stroke:#1f77b4;\" x=\"130.341564\" xlink:href=\"#mee86193f8d\" y=\"35.994489\"/>\n     <use style=\"fill:#1f77b4;stroke:#1f77b4;\" x=\"132.759829\" xlink:href=\"#mee86193f8d\" y=\"32.471543\"/>\n     <use style=\"fill:#1f77b4;stroke:#1f77b4;\" x=\"127.743833\" xlink:href=\"#mee86193f8d\" y=\"33.011414\"/>\n     <use style=\"fill:#1f77b4;stroke:#1f77b4;\" x=\"44.536798\" xlink:href=\"#mee86193f8d\" y=\"30.396818\"/>\n     <use style=\"fill:#1f77b4;stroke:#1f77b4;\" x=\"53.208988\" xlink:href=\"#mee86193f8d\" y=\"42.132603\"/>\n     <use style=\"fill:#1f77b4;stroke:#1f77b4;\" x=\"42.68426\" xlink:href=\"#mee86193f8d\" y=\"31.992356\"/>\n     <use style=\"fill:#1f77b4;stroke:#1f77b4;\" x=\"42.864229\" xlink:href=\"#mee86193f8d\" y=\"12.32354\"/>\n     <use style=\"fill:#1f77b4;stroke:#1f77b4;\" x=\"125.831595\" xlink:href=\"#mee86193f8d\" y=\"39.75353\"/>\n     <use style=\"fill:#1f77b4;stroke:#1f77b4;\" x=\"132.126964\" xlink:href=\"#mee86193f8d\" y=\"27.325171\"/>\n     <use style=\"fill:#1f77b4;stroke:#1f77b4;\" x=\"140.397203\" xlink:href=\"#mee86193f8d\" y=\"24.75545\"/>\n     <use style=\"fill:#1f77b4;stroke:#1f77b4;\" x=\"52.685974\" xlink:href=\"#mee86193f8d\" y=\"12.21187\"/>\n     <use style=\"fill:#1f77b4;stroke:#1f77b4;\" x=\"107.196447\" xlink:href=\"#mee86193f8d\" y=\"30.27984\"/>\n     <use style=\"fill:#1f77b4;stroke:#1f77b4;\" x=\"135.335745\" xlink:href=\"#mee86193f8d\" y=\"21.444554\"/>\n     <use style=\"fill:#1f77b4;stroke:#1f77b4;\" x=\"122.698614\" xlink:href=\"#mee86193f8d\" y=\"51.680203\"/>\n     <use style=\"fill:#1f77b4;stroke:#1f77b4;\" x=\"346.488876\" xlink:href=\"#mee86193f8d\" y=\"111.841514\"/>\n     <use style=\"fill:#1f77b4;stroke:#1f77b4;\" x=\"75.345182\" xlink:href=\"#mee86193f8d\" y=\"38.717477\"/>\n    </g>\n   </g>\n   <g id=\"matplotlib.axis_1\">\n    <g id=\"xtick_1\">\n     <g id=\"line2d_1\">\n      <defs>\n       <path d=\"M 0 0 \nL 0 3.5 \n\" id=\"m4e21d7490a\" style=\"stroke:#000000;stroke-width:0.8;\"/>\n      </defs>\n      <g>\n       <use style=\"stroke:#000000;stroke-width:0.8;\" x=\"47.530124\" xlink:href=\"#m4e21d7490a\" y=\"116.853384\"/>\n      </g>\n     </g>\n     <g id=\"text_1\">\n      <!-- −120 -->\n      <defs>\n       <path d=\"M 10.59375 35.5 \nL 73.1875 35.5 \nL 73.1875 27.203125 \nL 10.59375 27.203125 \nz\n\" id=\"DejaVuSans-8722\"/>\n       <path d=\"M 12.40625 8.296875 \nL 28.515625 8.296875 \nL 28.515625 63.921875 \nL 10.984375 60.40625 \nL 10.984375 69.390625 \nL 28.421875 72.90625 \nL 38.28125 72.90625 \nL 38.28125 8.296875 \nL 54.390625 8.296875 \nL 54.390625 0 \nL 12.40625 0 \nz\n\" id=\"DejaVuSans-49\"/>\n       <path d=\"M 19.1875 8.296875 \nL 53.609375 8.296875 \nL 53.609375 0 \nL 7.328125 0 \nL 7.328125 8.296875 \nQ 12.9375 14.109375 22.625 23.890625 \nQ 32.328125 33.6875 34.8125 36.53125 \nQ 39.546875 41.84375 41.421875 45.53125 \nQ 43.3125 49.21875 43.3125 52.78125 \nQ 43.3125 58.59375 39.234375 62.25 \nQ 35.15625 65.921875 28.609375 65.921875 \nQ 23.96875 65.921875 18.8125 64.3125 \nQ 13.671875 62.703125 7.8125 59.421875 \nL 7.8125 69.390625 \nQ 13.765625 71.78125 18.9375 73 \nQ 24.125 74.21875 28.421875 74.21875 \nQ 39.75 74.21875 46.484375 68.546875 \nQ 53.21875 62.890625 53.21875 53.421875 \nQ 53.21875 48.921875 51.53125 44.890625 \nQ 49.859375 40.875 45.40625 35.40625 \nQ 44.1875 33.984375 37.640625 27.21875 \nQ 31.109375 20.453125 19.1875 8.296875 \nz\n\" id=\"DejaVuSans-50\"/>\n       <path d=\"M 31.78125 66.40625 \nQ 24.171875 66.40625 20.328125 58.90625 \nQ 16.5 51.421875 16.5 36.375 \nQ 16.5 21.390625 20.328125 13.890625 \nQ 24.171875 6.390625 31.78125 6.390625 \nQ 39.453125 6.390625 43.28125 13.890625 \nQ 47.125 21.390625 47.125 36.375 \nQ 47.125 51.421875 43.28125 58.90625 \nQ 39.453125 66.40625 31.78125 66.40625 \nz\nM 31.78125 74.21875 \nQ 44.046875 74.21875 50.515625 64.515625 \nQ 56.984375 54.828125 56.984375 36.375 \nQ 56.984375 17.96875 50.515625 8.265625 \nQ 44.046875 -1.421875 31.78125 -1.421875 \nQ 19.53125 -1.421875 13.0625 8.265625 \nQ 6.59375 17.96875 6.59375 36.375 \nQ 6.59375 54.828125 13.0625 64.515625 \nQ 19.53125 74.21875 31.78125 74.21875 \nz\n\" id=\"DejaVuSans-48\"/>\n      </defs>\n      <g transform=\"translate(33.79653 131.451821)scale(0.1 -0.1)\">\n       <use xlink:href=\"#DejaVuSans-8722\"/>\n       <use x=\"83.789062\" xlink:href=\"#DejaVuSans-49\"/>\n       <use x=\"147.412109\" xlink:href=\"#DejaVuSans-50\"/>\n       <use x=\"211.035156\" xlink:href=\"#DejaVuSans-48\"/>\n      </g>\n     </g>\n    </g>\n    <g id=\"xtick_2\">\n     <g id=\"line2d_2\">\n      <g>\n       <use style=\"stroke:#000000;stroke-width:0.8;\" x=\"87.575965\" xlink:href=\"#m4e21d7490a\" y=\"116.853384\"/>\n      </g>\n     </g>\n     <g id=\"text_2\">\n      <!-- −100 -->\n      <g transform=\"translate(73.842371 131.451821)scale(0.1 -0.1)\">\n       <use xlink:href=\"#DejaVuSans-8722\"/>\n       <use x=\"83.789062\" xlink:href=\"#DejaVuSans-49\"/>\n       <use x=\"147.412109\" xlink:href=\"#DejaVuSans-48\"/>\n       <use x=\"211.035156\" xlink:href=\"#DejaVuSans-48\"/>\n      </g>\n     </g>\n    </g>\n    <g id=\"xtick_3\">\n     <g id=\"line2d_3\">\n      <g>\n       <use style=\"stroke:#000000;stroke-width:0.8;\" x=\"127.621806\" xlink:href=\"#m4e21d7490a\" y=\"116.853384\"/>\n      </g>\n     </g>\n     <g id=\"text_3\">\n      <!-- −80 -->\n      <defs>\n       <path d=\"M 31.78125 34.625 \nQ 24.75 34.625 20.71875 30.859375 \nQ 16.703125 27.09375 16.703125 20.515625 \nQ 16.703125 13.921875 20.71875 10.15625 \nQ 24.75 6.390625 31.78125 6.390625 \nQ 38.8125 6.390625 42.859375 10.171875 \nQ 46.921875 13.96875 46.921875 20.515625 \nQ 46.921875 27.09375 42.890625 30.859375 \nQ 38.875 34.625 31.78125 34.625 \nz\nM 21.921875 38.8125 \nQ 15.578125 40.375 12.03125 44.71875 \nQ 8.5 49.078125 8.5 55.328125 \nQ 8.5 64.0625 14.71875 69.140625 \nQ 20.953125 74.21875 31.78125 74.21875 \nQ 42.671875 74.21875 48.875 69.140625 \nQ 55.078125 64.0625 55.078125 55.328125 \nQ 55.078125 49.078125 51.53125 44.71875 \nQ 48 40.375 41.703125 38.8125 \nQ 48.828125 37.15625 52.796875 32.3125 \nQ 56.78125 27.484375 56.78125 20.515625 \nQ 56.78125 9.90625 50.3125 4.234375 \nQ 43.84375 -1.421875 31.78125 -1.421875 \nQ 19.734375 -1.421875 13.25 4.234375 \nQ 6.78125 9.90625 6.78125 20.515625 \nQ 6.78125 27.484375 10.78125 32.3125 \nQ 14.796875 37.15625 21.921875 38.8125 \nz\nM 18.3125 54.390625 \nQ 18.3125 48.734375 21.84375 45.5625 \nQ 25.390625 42.390625 31.78125 42.390625 \nQ 38.140625 42.390625 41.71875 45.5625 \nQ 45.3125 48.734375 45.3125 54.390625 \nQ 45.3125 60.0625 41.71875 63.234375 \nQ 38.140625 66.40625 31.78125 66.40625 \nQ 25.390625 66.40625 21.84375 63.234375 \nQ 18.3125 60.0625 18.3125 54.390625 \nz\n\" id=\"DejaVuSans-56\"/>\n      </defs>\n      <g transform=\"translate(117.069463 131.451821)scale(0.1 -0.1)\">\n       <use xlink:href=\"#DejaVuSans-8722\"/>\n       <use x=\"83.789062\" xlink:href=\"#DejaVuSans-56\"/>\n       <use x=\"147.412109\" xlink:href=\"#DejaVuSans-48\"/>\n      </g>\n     </g>\n    </g>\n    <g id=\"xtick_4\">\n     <g id=\"line2d_4\">\n      <g>\n       <use style=\"stroke:#000000;stroke-width:0.8;\" x=\"167.667648\" xlink:href=\"#m4e21d7490a\" y=\"116.853384\"/>\n      </g>\n     </g>\n     <g id=\"text_4\">\n      <!-- −60 -->\n      <defs>\n       <path d=\"M 33.015625 40.375 \nQ 26.375 40.375 22.484375 35.828125 \nQ 18.609375 31.296875 18.609375 23.390625 \nQ 18.609375 15.53125 22.484375 10.953125 \nQ 26.375 6.390625 33.015625 6.390625 \nQ 39.65625 6.390625 43.53125 10.953125 \nQ 47.40625 15.53125 47.40625 23.390625 \nQ 47.40625 31.296875 43.53125 35.828125 \nQ 39.65625 40.375 33.015625 40.375 \nz\nM 52.59375 71.296875 \nL 52.59375 62.3125 \nQ 48.875 64.0625 45.09375 64.984375 \nQ 41.3125 65.921875 37.59375 65.921875 \nQ 27.828125 65.921875 22.671875 59.328125 \nQ 17.53125 52.734375 16.796875 39.40625 \nQ 19.671875 43.65625 24.015625 45.921875 \nQ 28.375 48.1875 33.59375 48.1875 \nQ 44.578125 48.1875 50.953125 41.515625 \nQ 57.328125 34.859375 57.328125 23.390625 \nQ 57.328125 12.15625 50.6875 5.359375 \nQ 44.046875 -1.421875 33.015625 -1.421875 \nQ 20.359375 -1.421875 13.671875 8.265625 \nQ 6.984375 17.96875 6.984375 36.375 \nQ 6.984375 53.65625 15.1875 63.9375 \nQ 23.390625 74.21875 37.203125 74.21875 \nQ 40.921875 74.21875 44.703125 73.484375 \nQ 48.484375 72.75 52.59375 71.296875 \nz\n\" id=\"DejaVuSans-54\"/>\n      </defs>\n      <g transform=\"translate(157.115304 131.451821)scale(0.1 -0.1)\">\n       <use xlink:href=\"#DejaVuSans-8722\"/>\n       <use x=\"83.789062\" xlink:href=\"#DejaVuSans-54\"/>\n       <use x=\"147.412109\" xlink:href=\"#DejaVuSans-48\"/>\n      </g>\n     </g>\n    </g>\n    <g id=\"xtick_5\">\n     <g id=\"line2d_5\">\n      <g>\n       <use style=\"stroke:#000000;stroke-width:0.8;\" x=\"207.713489\" xlink:href=\"#m4e21d7490a\" y=\"116.853384\"/>\n      </g>\n     </g>\n     <g id=\"text_5\">\n      <!-- −40 -->\n      <defs>\n       <path d=\"M 37.796875 64.3125 \nL 12.890625 25.390625 \nL 37.796875 25.390625 \nz\nM 35.203125 72.90625 \nL 47.609375 72.90625 \nL 47.609375 25.390625 \nL 58.015625 25.390625 \nL 58.015625 17.1875 \nL 47.609375 17.1875 \nL 47.609375 0 \nL 37.796875 0 \nL 37.796875 17.1875 \nL 4.890625 17.1875 \nL 4.890625 26.703125 \nz\n\" id=\"DejaVuSans-52\"/>\n      </defs>\n      <g transform=\"translate(197.161146 131.451821)scale(0.1 -0.1)\">\n       <use xlink:href=\"#DejaVuSans-8722\"/>\n       <use x=\"83.789062\" xlink:href=\"#DejaVuSans-52\"/>\n       <use x=\"147.412109\" xlink:href=\"#DejaVuSans-48\"/>\n      </g>\n     </g>\n    </g>\n    <g id=\"xtick_6\">\n     <g id=\"line2d_6\">\n      <g>\n       <use style=\"stroke:#000000;stroke-width:0.8;\" x=\"247.759331\" xlink:href=\"#m4e21d7490a\" y=\"116.853384\"/>\n      </g>\n     </g>\n     <g id=\"text_6\">\n      <!-- −20 -->\n      <g transform=\"translate(237.206987 131.451821)scale(0.1 -0.1)\">\n       <use xlink:href=\"#DejaVuSans-8722\"/>\n       <use x=\"83.789062\" xlink:href=\"#DejaVuSans-50\"/>\n       <use x=\"147.412109\" xlink:href=\"#DejaVuSans-48\"/>\n      </g>\n     </g>\n    </g>\n    <g id=\"xtick_7\">\n     <g id=\"line2d_7\">\n      <g>\n       <use style=\"stroke:#000000;stroke-width:0.8;\" x=\"287.805172\" xlink:href=\"#m4e21d7490a\" y=\"116.853384\"/>\n      </g>\n     </g>\n     <g id=\"text_7\">\n      <!-- 0 -->\n      <g transform=\"translate(284.623922 131.451821)scale(0.1 -0.1)\">\n       <use xlink:href=\"#DejaVuSans-48\"/>\n      </g>\n     </g>\n    </g>\n    <g id=\"xtick_8\">\n     <g id=\"line2d_8\">\n      <g>\n       <use style=\"stroke:#000000;stroke-width:0.8;\" x=\"327.851014\" xlink:href=\"#m4e21d7490a\" y=\"116.853384\"/>\n      </g>\n     </g>\n     <g id=\"text_8\">\n      <!-- 20 -->\n      <g transform=\"translate(321.488514 131.451821)scale(0.1 -0.1)\">\n       <use xlink:href=\"#DejaVuSans-50\"/>\n       <use x=\"63.623047\" xlink:href=\"#DejaVuSans-48\"/>\n      </g>\n     </g>\n    </g>\n   </g>\n   <g id=\"matplotlib.axis_2\">\n    <g id=\"ytick_1\">\n     <g id=\"line2d_9\">\n      <defs>\n       <path d=\"M 0 0 \nL -3.5 0 \n\" id=\"m5d0e45d432\" style=\"stroke:#000000;stroke-width:0.8;\"/>\n      </defs>\n      <g>\n       <use style=\"stroke:#000000;stroke-width:0.8;\" x=\"26.925\" xlink:href=\"#m5d0e45d432\" y=\"107.639109\"/>\n      </g>\n     </g>\n     <g id=\"text_9\">\n      <!-- 0 -->\n      <g transform=\"translate(13.5625 111.438328)scale(0.1 -0.1)\">\n       <use xlink:href=\"#DejaVuSans-48\"/>\n      </g>\n     </g>\n    </g>\n    <g id=\"ytick_2\">\n     <g id=\"line2d_10\">\n      <g>\n       <use style=\"stroke:#000000;stroke-width:0.8;\" x=\"26.925\" xlink:href=\"#m5d0e45d432\" y=\"67.593267\"/>\n      </g>\n     </g>\n     <g id=\"text_10\">\n      <!-- 20 -->\n      <g transform=\"translate(7.2 71.392486)scale(0.1 -0.1)\">\n       <use xlink:href=\"#DejaVuSans-50\"/>\n       <use x=\"63.623047\" xlink:href=\"#DejaVuSans-48\"/>\n      </g>\n     </g>\n    </g>\n    <g id=\"ytick_3\">\n     <g id=\"line2d_11\">\n      <g>\n       <use style=\"stroke:#000000;stroke-width:0.8;\" x=\"26.925\" xlink:href=\"#m5d0e45d432\" y=\"27.547426\"/>\n      </g>\n     </g>\n     <g id=\"text_11\">\n      <!-- 40 -->\n      <g transform=\"translate(7.2 31.346645)scale(0.1 -0.1)\">\n       <use xlink:href=\"#DejaVuSans-52\"/>\n       <use x=\"63.623047\" xlink:href=\"#DejaVuSans-48\"/>\n      </g>\n     </g>\n    </g>\n   </g>\n   <g id=\"patch_3\">\n    <path d=\"M 26.925 116.853384 \nL 26.925 7.2 \n\" style=\"fill:none;stroke:#000000;stroke-linecap:square;stroke-linejoin:miter;stroke-width:0.8;\"/>\n   </g>\n   <g id=\"patch_4\">\n    <path d=\"M 361.725 116.853384 \nL 361.725 7.2 \n\" style=\"fill:none;stroke:#000000;stroke-linecap:square;stroke-linejoin:miter;stroke-width:0.8;\"/>\n   </g>\n   <g id=\"patch_5\">\n    <path d=\"M 26.925 116.853384 \nL 361.725 116.853384 \n\" style=\"fill:none;stroke:#000000;stroke-linecap:square;stroke-linejoin:miter;stroke-width:0.8;\"/>\n   </g>\n   <g id=\"patch_6\">\n    <path d=\"M 26.925 7.2 \nL 361.725 7.2 \n\" style=\"fill:none;stroke:#000000;stroke-linecap:square;stroke-linejoin:miter;stroke-width:0.8;\"/>\n   </g>\n  </g>\n </g>\n <defs>\n  <clipPath id=\"p82f8f25710\">\n   <rect height=\"109.653384\" width=\"334.8\" x=\"26.925\" y=\"7.2\"/>\n  </clipPath>\n </defs>\n</svg>\n",
      "image/png": "[encoded data removed]"
     },
     "metadata": {
      "needs_background": "light"
     }
    }
   ],
   "source": [
    "avo_gdf = gpd.GeoDataFrame(df, geometry=gpd.points_from_xy(df.longitude, df.latitude))\n",
    "\n",
    "avo_gdf.plot()"
   ]
  }
 ]
}